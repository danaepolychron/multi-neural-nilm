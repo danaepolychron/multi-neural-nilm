{
 "cells": [
  {
   "cell_type": "markdown",
   "id": "eb3a9190",
   "metadata": {},
   "source": [
    "# Setting up an Experiment Baseline Framework"
   ]
  },
  {
   "cell_type": "markdown",
   "id": "4d0ceccf",
   "metadata": {},
   "source": [
    "This serves as a baseline framework for the multi-label neural NILM experiments."
   ]
  },
  {
   "cell_type": "markdown",
   "id": "f6576168",
   "metadata": {},
   "source": [
    "### Import Python Modules"
   ]
  },
  {
   "cell_type": "code",
   "execution_count": 1,
   "id": "38edecfe",
   "metadata": {},
   "outputs": [],
   "source": [
    "from __future__ import print_function, division\n",
    "import warnings\n",
    "\n",
    "warnings.simplefilter('ignore')\n",
    "warnings.filterwarnings('ignore')\n",
    "\n",
    "\n",
    "from data import Environment, get_on_off\n",
    "from data.generator import Seq2Seq, Seq2Point \n",
    "\n",
    "from models import FCN, ResNet, ConvGRU, ConvLSTM, FCN_AE\n",
    "\n",
    "from experiments import Experiment\n",
    "from experiments.metrics import validation_report, evaluation_report, confusion_matrix_report, roc_report\n",
    "\n",
    "from utils.path_finder import NILMTK_SOURCE, SCENARIOS, SOURCES, PRETRAINED, RESULTS"
   ]
  },
  {
   "cell_type": "code",
   "execution_count": 2,
   "id": "84531d3f",
   "metadata": {},
   "outputs": [],
   "source": [
    "import os\n",
    "import matplotlib as mpl\n",
    "import matplotlib.pyplot as plt\n",
    "import numpy as np\n",
    "import pandas as pd\n",
    "import seaborn as sns"
   ]
  },
  {
   "cell_type": "markdown",
   "id": "5b334e75",
   "metadata": {},
   "source": [
    "### Setup the Experiment Params"
   ]
  },
  {
   "cell_type": "code",
   "execution_count": 3,
   "id": "945fdab3",
   "metadata": {},
   "outputs": [],
   "source": [
    "SCENARIO = 1\n",
    "BATCH_SIZE = 32\n",
    "WINDOW_SIZE = 100\n",
    "EPOCHS = 100\n",
    "LRN_RATE = 0.0001\n",
    "SPEED = 1"
   ]
  },
  {
   "cell_type": "code",
   "execution_count": null,
   "id": "b2f4cab1",
   "metadata": {},
   "outputs": [],
   "source": []
  },
  {
   "cell_type": "code",
   "execution_count": 34,
   "id": "b4d0b7cf",
   "metadata": {},
   "outputs": [],
   "source": [
    "CLASSIFIERS = {\"FCN\": FCN(1,3), \n",
    "               \"ResNet\": ResNet(1,3), \n",
    "               \"ConvGRU\": ConvGRU(1,3), \n",
    "               \"ConvLSTM\": ConvLSTM(1,3), \n",
    "               \"FCN_AE\":FCN_AE(1,3)\n",
    "              }"
   ]
  },
  {
   "cell_type": "code",
   "execution_count": 7,
   "id": "f7f000b3",
   "metadata": {},
   "outputs": [],
   "source": [
    "experiment = Experiment(scenario=SCENARIO)\n",
    "experiment.setup_running_params(model=ConvLSTM(1,3), epochs=EPOCHS, window=WINDOW_SIZE, batch_size=BATCH_SIZE, lrn_rate=LRN_RATE, speed=SPEED)"
   ]
  },
  {
   "cell_type": "markdown",
   "id": "3b148f9f",
   "metadata": {},
   "source": [
    "### Evaluate Experiment Outputs"
   ]
  },
  {
   "cell_type": "code",
   "execution_count": 36,
   "id": "402d407d",
   "metadata": {},
   "outputs": [],
   "source": [
    "measures = ['fridge', 'dish washer', 'washer dryer', 'macro', 'micro']  \n",
    "metric = \"F1 Score\" \n",
    "\n",
    "target_results = {}\n",
    "model_results = {}\n",
    "\n",
    "\n",
    "for name in CLASSIFIERS.keys():\n",
    "\n",
    "\n",
    "    target_filename = os.path.join(RESULTS, \"scenario-{}/{}/{}-min-target-results.csv\".format(experiment.scenario, name, experiment.window))\n",
    "    target_results[name] = pd.read_csv(target_filename, index_col=0)\n",
    "\n",
    "    model_filename = os.path.join(RESULTS, \"scenario-{}/{}/{}-min-model-results.csv\".format(experiment.scenario, name, experiment.window))\n",
    "    model_results[name] = pd.read_csv(model_filename, index_col=0)"
   ]
  },
  {
   "cell_type": "code",
   "execution_count": 60,
   "id": "bf08b736",
   "metadata": {},
   "outputs": [],
   "source": [
    "scores = {}\n",
    "for name in CLASSIFIERS.keys():\n",
    "    \n",
    "    scores[name] = {}\n",
    "    \n",
    "    for i in measures:\n",
    "        \n",
    "        if i == \"macro\":\n",
    "            scores[name][i] = model_results[name].loc[i, metric]\n",
    "        else:\n",
    "            scores[name][i] = target_results[name].loc[i, metric]"
   ]
  },
  {
   "cell_type": "code",
   "execution_count": 93,
   "id": "32a6ef20",
   "metadata": {},
   "outputs": [],
   "source": [
    "all_targets = pd.DataFrame(data=scores, columns=CLASSIFIERS.keys(), index=measures)\n",
    "all_model = pd.DataFrame(data=scores, columns=[\"fridge\", \"dish washer\", \"washer dryer\"], index=CLASSIFIERS.keys())"
   ]
  },
  {
   "cell_type": "code",
   "execution_count": 94,
   "id": "4ff831e2",
   "metadata": {},
   "outputs": [
    {
     "data": {
      "text/html": [
       "<div>\n",
       "<style scoped>\n",
       "    .dataframe tbody tr th:only-of-type {\n",
       "        vertical-align: middle;\n",
       "    }\n",
       "\n",
       "    .dataframe tbody tr th {\n",
       "        vertical-align: top;\n",
       "    }\n",
       "\n",
       "    .dataframe thead th {\n",
       "        text-align: right;\n",
       "    }\n",
       "</style>\n",
       "<table border=\"1\" class=\"dataframe\">\n",
       "  <thead>\n",
       "    <tr style=\"text-align: right;\">\n",
       "      <th></th>\n",
       "      <th>FCN</th>\n",
       "      <th>ResNet</th>\n",
       "      <th>ConvGRU</th>\n",
       "      <th>ConvLSTM</th>\n",
       "      <th>FCN_AE</th>\n",
       "    </tr>\n",
       "  </thead>\n",
       "  <tbody>\n",
       "    <tr>\n",
       "      <th>fridge</th>\n",
       "      <td>0.799234</td>\n",
       "      <td>0.790737</td>\n",
       "      <td>0.804870</td>\n",
       "      <td>0.797297</td>\n",
       "      <td>0.802792</td>\n",
       "    </tr>\n",
       "    <tr>\n",
       "      <th>dish washer</th>\n",
       "      <td>0.665922</td>\n",
       "      <td>0.676243</td>\n",
       "      <td>0.662921</td>\n",
       "      <td>0.723187</td>\n",
       "      <td>0.699010</td>\n",
       "    </tr>\n",
       "    <tr>\n",
       "      <th>washer dryer</th>\n",
       "      <td>0.868598</td>\n",
       "      <td>0.880345</td>\n",
       "      <td>0.874585</td>\n",
       "      <td>0.881530</td>\n",
       "      <td>0.879794</td>\n",
       "    </tr>\n",
       "    <tr>\n",
       "      <th>macro</th>\n",
       "      <td>0.777918</td>\n",
       "      <td>0.782442</td>\n",
       "      <td>0.780792</td>\n",
       "      <td>0.800671</td>\n",
       "      <td>0.793865</td>\n",
       "    </tr>\n",
       "  </tbody>\n",
       "</table>\n",
       "</div>"
      ],
      "text/plain": [
       "                   FCN    ResNet   ConvGRU  ConvLSTM    FCN_AE\n",
       "fridge        0.799234  0.790737  0.804870  0.797297  0.802792\n",
       "dish washer   0.665922  0.676243  0.662921  0.723187  0.699010\n",
       "washer dryer  0.868598  0.880345  0.874585  0.881530  0.879794\n",
       "macro         0.777918  0.782442  0.780792  0.800671  0.793865"
      ]
     },
     "execution_count": 94,
     "metadata": {},
     "output_type": "execute_result"
    }
   ],
   "source": [
    "all_targets"
   ]
  },
  {
   "cell_type": "code",
   "execution_count": 83,
   "id": "ebced144",
   "metadata": {},
   "outputs": [],
   "source": [
    "sns.set_style('whitegrid')\n",
    "sns.set_context('talk')\n",
    "sns.set_palette(['#90BE6D','#652A75', '#8DDCA4','#231651', '#EA9010'])"
   ]
  },
  {
   "cell_type": "code",
   "execution_count": 84,
   "id": "72337a74",
   "metadata": {},
   "outputs": [
    {
     "data": {
      "text/plain": [
       "<Figure size 648x288 with 0 Axes>"
      ]
     },
     "metadata": {},
     "output_type": "display_data"
    },
    {
     "data": {
      "image/png": "[encoded data removed]",
      "text/plain": [
       "<Figure size 864x720 with 1 Axes>"
      ]
     },
     "metadata": {},
     "output_type": "display_data"
    }
   ],
   "source": [
    "plt.figure(figsize=(9, 4));\n",
    "ax = all_targets.plot.bar(rot=0);\n",
    "plt.legend(loc='upper right', bbox_to_anchor=(1.3, 1));"
   ]
  }
 ],
 "metadata": {
  "kernelspec": {
   "display_name": "Python(ml-nilm-env)",
   "language": "python",
   "name": "ml-nilm-env"
  },
  "language_info": {
   "codemirror_mode": {
    "name": "ipython",
    "version": 3
   },
   "file_extension": ".py",
   "mimetype": "text/x-python",
   "name": "python",
   "nbconvert_exporter": "python",
   "pygments_lexer": "ipython3",
   "version": "3.8.5"
  }
 },
 "nbformat": 4,
 "nbformat_minor": 5
}
